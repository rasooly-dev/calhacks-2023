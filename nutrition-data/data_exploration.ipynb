{
 "cells": [
  {
   "cell_type": "code",
   "execution_count": 24,
   "id": "361d8a8d",
   "metadata": {},
   "outputs": [
    {
     "name": "stdout",
     "output_type": "stream",
     "text": [
      "<class 'pandas.core.frame.DataFrame'>\n",
      "RangeIndex: 335 entries, 0 to 334\n",
      "Data columns (total 10 columns):\n",
      " #   Column    Non-Null Count  Dtype \n",
      "---  ------    --------------  ----- \n",
      " 0   Food      335 non-null    object\n",
      " 1   Measure   335 non-null    object\n",
      " 2   Grams     335 non-null    object\n",
      " 3   Calories  334 non-null    object\n",
      " 4   Protein   335 non-null    object\n",
      " 5   Fat       335 non-null    object\n",
      " 6   Sat.Fat   333 non-null    object\n",
      " 7   Fiber     335 non-null    object\n",
      " 8   Carbs     335 non-null    object\n",
      " 9   Category  335 non-null    object\n",
      "dtypes: object(10)\n",
      "memory usage: 26.3+ KB\n"
     ]
    }
   ],
   "source": [
    "import pandas as pd\n",
    "import numpy as np\n",
    "import json\n",
    "\n",
    "def read_csv_file(filename):\n",
    "    return pd.read_csv(filename)\n",
    "\n",
    "df = read_csv_file('nutrients_csv.csv')\n",
    "\n",
    "df.info()"
   ]
  },
  {
   "cell_type": "code",
   "execution_count": 26,
   "id": "ff93b6df",
   "metadata": {},
   "outputs": [],
   "source": [
    "with open('output.jsonl', 'w') as file:\n",
    "    for index, row in df.iterrows():\n",
    "        data = {\n",
    "            \"text\": {\n",
    "                \"food\": row['Food'],\n",
    "                \"measure\": row['Measure'],\n",
    "                \"grams\": str(row['Grams']),\n",
    "                \"calories\": str(row['Calories']),\n",
    "                \"protein\": str(row['Protein']),\n",
    "                \"fat\": str(row['Fat']),\n",
    "                \"sat.fat\": str(row['Sat.Fat']),\n",
    "                \"fiber\": str(row['Fiber']),\n",
    "                \"carbs\": str(row['Carbs']),\n",
    "                \"category\": row['Category']\n",
    "            }\n",
    "        }\n",
    "        file.write(json.dumps(data) + '\\n')\n",
    "    \n",
    "    "
   ]
  }
 ],
 "metadata": {
  "kernelspec": {
   "display_name": "Python 3 (ipykernel)",
   "language": "python",
   "name": "python3"
  },
  "language_info": {
   "codemirror_mode": {
    "name": "ipython",
    "version": 3
   },
   "file_extension": ".py",
   "mimetype": "text/x-python",
   "name": "python",
   "nbconvert_exporter": "python",
   "pygments_lexer": "ipython3",
   "version": "3.11.5"
  }
 },
 "nbformat": 4,
 "nbformat_minor": 5
}
